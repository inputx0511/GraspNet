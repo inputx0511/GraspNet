{
  "nbformat": 4,
  "nbformat_minor": 0,
  "metadata": {
    "colab": {
      "provenance": [],
      "gpuType": "T4",
      "mount_file_id": "1xNSL6Fgi-Q4AaPWgb2D8FOXDJiMH9RSc",
      "authorship_tag": "ABX9TyMCJobuJqhPBxcyLbZVmy93",
      "include_colab_link": true
    },
    "kernelspec": {
      "name": "python3",
      "display_name": "Python 3"
    },
    "language_info": {
      "name": "python"
    }
  },
  "cells": [
    {
      "cell_type": "markdown",
      "metadata": {
        "id": "view-in-github",
        "colab_type": "text"
      },
      "source": [
        "<a href=\"https://colab.research.google.com/github/inputx0511/GraspNet/blob/main/Learn_pointnet.ipynb\" target=\"_parent\"><img src=\"https://colab.research.google.com/assets/colab-badge.svg\" alt=\"Open In Colab\"/></a>"
      ]
    },
    {
      "cell_type": "code",
      "execution_count": 6,
      "metadata": {
        "colab": {
          "base_uri": "https://localhost:8080/"
        },
        "id": "DojO6nEFpX5g",
        "outputId": "534009e5-6f2c-41d5-9e58-8ac0716f5c3e"
      },
      "outputs": [
        {
          "output_type": "stream",
          "name": "stdout",
          "text": [
            "/content/drive/MyDrive/Colab_Notebooks/graspAPI\n"
          ]
        }
      ],
      "source": [
        "%cd /content/drive/MyDrive/Colab_Notebooks/graspAPI"
      ]
    },
    {
      "cell_type": "code",
      "source": [
        "!git clone https://github.com/luyh20/FGC-GraspNet.git"
      ],
      "metadata": {
        "colab": {
          "base_uri": "https://localhost:8080/"
        },
        "id": "aqu2lCdrqnhh",
        "outputId": "94d9d819-b7e9-407d-8a62-068899826209"
      },
      "execution_count": 7,
      "outputs": [
        {
          "output_type": "stream",
          "name": "stdout",
          "text": [
            "fatal: destination path 'FGC-GraspNet' already exists and is not an empty directory.\n"
          ]
        }
      ]
    },
    {
      "cell_type": "code",
      "source": [
        "%cd /content/drive/MyDrive/Colab_Notebooks/graspAPI/FGC-GraspNet"
      ],
      "metadata": {
        "colab": {
          "base_uri": "https://localhost:8080/"
        },
        "id": "eT1sMvvrqtvM",
        "outputId": "691e3653-c78b-42e5-890b-63b8a40431d6"
      },
      "execution_count": 8,
      "outputs": [
        {
          "output_type": "stream",
          "name": "stdout",
          "text": [
            "/content/drive/MyDrive/Colab_Notebooks/graspAPI/FGC-GraspNet\n"
          ]
        }
      ]
    },
    {
      "cell_type": "code",
      "source": [
        "!sudo apt-get install python3.8"
      ],
      "metadata": {
        "id": "nToaxD7msJXz"
      },
      "execution_count": null,
      "outputs": []
    },
    {
      "cell_type": "code",
      "source": [
        "!sudo update-alternatives --install /usr/bin/python3 python3 /usr/bin/python3.8 1"
      ],
      "metadata": {
        "colab": {
          "base_uri": "https://localhost:8080/"
        },
        "id": "yZF1HGnrscvw",
        "outputId": "9997e564-5054-45e1-c412-794aa652ebfa"
      },
      "execution_count": 10,
      "outputs": [
        {
          "output_type": "stream",
          "name": "stdout",
          "text": [
            "update-alternatives: using /usr/bin/python3.8 to provide /usr/bin/python3 (python3) in auto mode\n"
          ]
        }
      ]
    },
    {
      "cell_type": "code",
      "source": [
        "!python3 --version"
      ],
      "metadata": {
        "colab": {
          "base_uri": "https://localhost:8080/"
        },
        "id": "H0Kgu88SsUP4",
        "outputId": "b97ba426-e9ae-4332-c0a8-85b6eccbc370"
      },
      "execution_count": 11,
      "outputs": [
        {
          "output_type": "stream",
          "name": "stdout",
          "text": [
            "Python 3.8.18\n"
          ]
        }
      ]
    },
    {
      "cell_type": "code",
      "source": [
        "!sudo apt-get install --reinstall python3.8-distutils"
      ],
      "metadata": {
        "id": "eXJFtfistqJ6"
      },
      "execution_count": null,
      "outputs": []
    },
    {
      "cell_type": "code",
      "source": [
        "!sudo apt-get install python3-pip"
      ],
      "metadata": {
        "id": "P991SvfFs7Mo"
      },
      "execution_count": null,
      "outputs": []
    },
    {
      "cell_type": "code",
      "source": [
        "!pip3 --version"
      ],
      "metadata": {
        "colab": {
          "base_uri": "https://localhost:8080/"
        },
        "id": "rw-DfwX0uElN",
        "outputId": "9a093c25-7033-4e12-925b-c6d61703f421"
      },
      "execution_count": 14,
      "outputs": [
        {
          "output_type": "stream",
          "name": "stdout",
          "text": [
            "pip 22.0.2 from /usr/lib/python3/dist-packages/pip (python 3.8)\n"
          ]
        }
      ]
    },
    {
      "cell_type": "code",
      "source": [
        "!pip3 install --upgrade pip"
      ],
      "metadata": {
        "id": "7q2Ln_mStBna"
      },
      "execution_count": null,
      "outputs": []
    },
    {
      "cell_type": "code",
      "source": [
        "!pip3 install -r /content/drive/MyDrive/Colab_Notebooks/graspAPI/FGC-GraspNet/requirements.txt"
      ],
      "metadata": {
        "id": "RkKr3xNpq5Ro"
      },
      "execution_count": null,
      "outputs": []
    },
    {
      "cell_type": "code",
      "source": [
        "%cd /content/drive/MyDrive/Colab_Notebooks/graspAPI/FGC-GraspNet/grasp_data"
      ],
      "metadata": {
        "colab": {
          "base_uri": "https://localhost:8080/"
        },
        "id": "pEsFpm1YwNCy",
        "outputId": "17d733f8-6f23-4853-aac2-7cc99f6abee9"
      },
      "execution_count": 19,
      "outputs": [
        {
          "output_type": "stream",
          "name": "stdout",
          "text": [
            "/content/drive/MyDrive/Colab_Notebooks/graspAPI/FGC-GraspNet/grasp_data/models\n"
          ]
        }
      ]
    },
    {
      "cell_type": "code",
      "source": [
        "import requests\n",
        "file_url = \"https://drive.google.com/u/0/uc?id=1Gxwu2C5wRQ0QwjdA8CbMXx-bYf_wwPT5&export=download&confirm=t&uuid=3d35e150-afa5-4e95-86b2-708793d50743&at=AB6BwCBpUvhAny1HgXVn22lhg5gn:1700702520691\"\n",
        "\n",
        "r = requests.get(file_url, stream = True)\n",
        "\n",
        "with open(\"/content/drive/MyDrive/Colab_Notebooks/graspAPI/FGC-GraspNet/grasp_data/models.zip\", \"wb\") as file:\n",
        "\tfor block in r.iter_content(chunk_size = 1024):\n",
        "\t\tif block:\n",
        "\t\t\tfile.write(block)"
      ],
      "metadata": {
        "id": "POTarZyyxZTf"
      },
      "execution_count": 22,
      "outputs": []
    },
    {
      "cell_type": "code",
      "source": [
        "!unzip /content/drive/MyDrive/Colab_Notebooks/graspAPI/FGC-GraspNet/grasp_data/models.zip"
      ],
      "metadata": {
        "id": "pDDC6Qcu0FLN"
      },
      "execution_count": null,
      "outputs": []
    },
    {
      "cell_type": "code",
      "source": [
        "%cd /content/drive/MyDrive/Colab_Notebooks/graspAPI/FGC-GraspNet/grasp_label"
      ],
      "metadata": {
        "colab": {
          "base_uri": "https://localhost:8080/"
        },
        "id": "ImfzBv9O2n1I",
        "outputId": "c8ca940c-71f2-4e49-ceb4-4da4919f022c"
      },
      "execution_count": 24,
      "outputs": [
        {
          "output_type": "stream",
          "name": "stdout",
          "text": [
            "/content/drive/MyDrive/Colab_Notebooks/graspAPI/FGC-GraspNet/grasp_data/grasp_label\n"
          ]
        }
      ]
    },
    {
      "cell_type": "code",
      "source": [
        "import requests\n",
        "file_url = \"https://drive.google.com/u/0/uc?id=1FCV6j2J2eQpVk_ddJXljJvjRT1KU3sJ6&export=download&confirm=t&uuid=d746192f-1ede-4615-adf4-4ae310e8dcdf&at=AB6BwCAF4wYCyKFFKUzBRH9XhMDU:1700703909657\"\n",
        "\n",
        "r = requests.get(file_url, stream = True)\n",
        "\n",
        "with open(\"/content/drive/MyDrive/Colab_Notebooks/graspAPI/FGC-GraspNet/grasp_data/grasp_label.zip\", \"wb\") as file:\n",
        "\tfor block in r.iter_content(chunk_size = 1024):\n",
        "\t\tif block:\n",
        "\t\t\tfile.write(block)\n"
      ],
      "metadata": {
        "id": "CSFkStbh2tBd"
      },
      "execution_count": 25,
      "outputs": []
    },
    {
      "cell_type": "code",
      "source": [
        "!unzip /content/drive/MyDrive/Colab_Notebooks/graspAPI/FGC-GraspNet/grasp_data/grasp_label.zip"
      ],
      "metadata": {
        "id": "sXN_YrGr3o6a"
      },
      "execution_count": null,
      "outputs": []
    },
    {
      "cell_type": "code",
      "source": [
        "%cd /content/drive/MyDrive/Colab_Notebooks/graspAPI/FGC-GraspNet/grasp_data"
      ],
      "metadata": {
        "colab": {
          "base_uri": "https://localhost:8080/"
        },
        "id": "spLuvHIH64yl",
        "outputId": "66827ed8-7f35-4648-937c-3c9249136a7a"
      },
      "execution_count": 27,
      "outputs": [
        {
          "output_type": "stream",
          "name": "stdout",
          "text": [
            "/content/drive/MyDrive/Colab_Notebooks/graspAPI/FGC-GraspNet/grasp_data/collision_label\n"
          ]
        }
      ]
    },
    {
      "cell_type": "code",
      "source": [
        "file_url = \"https://drive.google.com/u/0/uc?id=1p43sntiN9HJZRDFDNpzaEaEYoPY6IWsu&export=download&confirm=t&uuid=f638c798-6930-419e-a119-58637ee2a647&at=AB6BwCBqkZuRG8JwcLwSHwiCKO9w:1700704787943\"\n",
        "\n",
        "r = requests.get(file_url, stream = True)\n",
        "\n",
        "with open(\"/content/drive/MyDrive/Colab_Notebooks/graspAPI/FGC-GraspNet/grasp_data/collision_label.zip\", \"wb\") as file:\n",
        "\tfor block in r.iter_content(chunk_size = 1024):\n",
        "\t\tif block:\n",
        "\t\t\tfile.write(block)"
      ],
      "metadata": {
        "id": "K_qeaCPF7C7S"
      },
      "execution_count": 29,
      "outputs": []
    },
    {
      "cell_type": "code",
      "source": [
        "!unzip /content/drive/MyDrive/Colab_Notebooks/graspAPI/FGC-GraspNet/grasp_data/collision_label.zip"
      ],
      "metadata": {
        "id": "FwKHi7997WtU"
      },
      "execution_count": null,
      "outputs": []
    },
    {
      "cell_type": "code",
      "source": [
        "%cd /content/drive/MyDrive/Colab_Notebooks/graspAPI/FGC-GraspNet/grasp_data"
      ],
      "metadata": {
        "colab": {
          "base_uri": "https://localhost:8080/"
        },
        "id": "yCKPLtGIBwxG",
        "outputId": "9f85dbc8-fccd-46ad-bd1a-c34f4745ebb2"
      },
      "execution_count": 31,
      "outputs": [
        {
          "output_type": "stream",
          "name": "stdout",
          "text": [
            "/content/drive/MyDrive/Colab_Notebooks/graspAPI/FGC-GraspNet/grasp_data\n"
          ]
        }
      ]
    },
    {
      "cell_type": "code",
      "source": [
        "file_url = \"https://drive.google.com/u/0/uc?id=1RElNqUHNoA9l_muTGNu7yAc3ql_e7pL3&export=download&confirm=t&uuid=12f454e7-ec88-4abf-99a5-1f92892e09f0&at=AB6BwCBWxxsBZ-1pWpW_iJAl-zVH:1700706871621\"\n",
        "\n",
        "r = requests.get(file_url, stream = True)\n",
        "\n",
        "with open(\"/content/drive/MyDrive/Colab_Notebooks/graspAPI/FGC-GraspNet/grasp_data/dex_models.zip\", \"wb\") as file:\n",
        "\tfor block in r.iter_content(chunk_size = 1024):\n",
        "\t\tif block:\n",
        "\t\t\tfile.write(block)"
      ],
      "metadata": {
        "id": "l2w8TsoNB-uT"
      },
      "execution_count": 32,
      "outputs": []
    },
    {
      "cell_type": "code",
      "source": [
        "!unzip /content/drive/MyDrive/Colab_Notebooks/graspAPI/FGC-GraspNet/grasp_data/dex_models.zip"
      ],
      "metadata": {
        "colab": {
          "base_uri": "https://localhost:8080/"
        },
        "id": "9kZahMJ0Ds8x",
        "outputId": "40be0fad-9327-4068-bc8d-9c8992d084fe"
      },
      "execution_count": 33,
      "outputs": [
        {
          "output_type": "stream",
          "name": "stdout",
          "text": [
            "\n",
            "  inflating: dex_models/011.pkl      \n",
            "  inflating: dex_models/086.pkl      \n",
            "  inflating: dex_models/002.pkl      \n",
            "  inflating: dex_models/022.pkl      \n",
            "  inflating: dex_models/032.pkl      \n",
            "  inflating: dex_models/082.pkl      \n",
            "  inflating: dex_models/030.pkl      \n",
            "  inflating: dex_models/060.pkl      \n",
            "  inflating: dex_models/075.pkl      \n",
            "dex_models/075.pkl:  write error (disk full?).  Continue? (y/n/^C) "
          ]
        }
      ]
    }
  ]
}